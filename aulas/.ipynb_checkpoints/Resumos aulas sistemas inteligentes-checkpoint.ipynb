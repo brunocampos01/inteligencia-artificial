{
 "cells": [
  {
   "cell_type": "markdown",
   "metadata": {},
   "source": [
    "Primeira vida artificial:\n",
    "http://airesearch.com/tag/c-elegans/\n",
    "\n",
    "\n",
    "API: http://docs.openworm.org/en/latest/Community/github/"
   ]
  },
  {
   "cell_type": "markdown",
   "metadata": {},
   "source": [
    "Resumo\n",
    "* Um agente é alguma coisa que percebe e age no ambiente. A função de agente para um\n",
    "agente especifica a ação tomada por um agente em resposta a qualquer sequência de\n",
    "percepções.\n",
    "* A medida de performance avalia o comportamento do agente no ambiente. Um agente\n",
    "racional age para maximizar o valor esperado da medida de performance, dada a sequência\n",
    "de percepções que ele vê.\n",
    "* Uma especificação de ambiente inclui uma medida de performance, o ambiente externo, os\n",
    "atuadores e os sensores. Projetando um agente, o primeiro passo deve sempre ser especificar\n",
    "o ambiente tão completamente quanto possível.\n",
    "* Ambientes variam ao longo de várias dimensões significantes. Eles podem ser\n",
    "completamente ou parcialmente observáveis, determinísticos ou estocásticos, episódicos ou\n",
    "sequenciais, estáticos ou dinâmicos, discretos ou contínuos e de único agente ou multi\n",
    "agente.\n",
    "* O programa do agente implementa a função do agente.\n",
    "* Agentes reflexivos simples respondem diretamente a percepções, enquanto um agente\n",
    "reflexivo baseado em modelo mantem um estado interno para rastrear aspectos do mundo\n",
    "que não são evidentes na percepção atual. Agentes baseados em objetivo agem para\n",
    "alcançar seus objetivos, e agentes baseados em utilidade tentam maximizar suas próprias\n",
    "expectativas de “felicidade”.\n",
    "* Todos os agentes podem melhorar suas performance através de aprendizado."
   ]
  },
  {
   "cell_type": "markdown",
   "metadata": {},
   "source": [
    "## Algoritmos de busca:\n",
    "\n",
    "#### Uninformed Search\n",
    "* Tipos de Busca Cega\n",
    "* Busca em largura\n",
    "* Busca pelo custo uniforme\n",
    "* Busca em profundidade\n",
    "* Busca em profundidade limitada\n",
    "* Busca por aprofundamento iterativo\n",
    "* Busca bidirecional\n",
    "\n",
    "#### Informed Search\n",
    "* A*\n",
    "* Greedy Search\n",
    "\n",
    "#### Informed Search\n",
    "\n",
    "* Hill climbing\n",
    "* Simulated Annealing"
   ]
  },
  {
   "cell_type": "code",
   "execution_count": null,
   "metadata": {},
   "outputs": [],
   "source": []
  }
 ],
 "metadata": {
  "kernelspec": {
   "display_name": "Python 3",
   "language": "python",
   "name": "python3"
  },
  "language_info": {
   "codemirror_mode": {
    "name": "ipython",
    "version": 3
   },
   "file_extension": ".py",
   "mimetype": "text/x-python",
   "name": "python",
   "nbconvert_exporter": "python",
   "pygments_lexer": "ipython3",
   "version": "3.6.5"
  },
  "latex_envs": {
   "LaTeX_envs_menu_present": true,
   "autoclose": false,
   "autocomplete": true,
   "bibliofile": "biblio.bib",
   "cite_by": "apalike",
   "current_citInitial": 1,
   "eqLabelWithNumbers": true,
   "eqNumInitial": 1,
   "hotkeys": {
    "equation": "Ctrl-E",
    "itemize": "Ctrl-I"
   },
   "labels_anchors": false,
   "latex_user_defs": false,
   "report_style_numbering": false,
   "user_envs_cfg": false
  }
 },
 "nbformat": 4,
 "nbformat_minor": 2
}
